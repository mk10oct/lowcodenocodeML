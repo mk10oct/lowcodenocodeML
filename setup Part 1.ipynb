{
 "cells": [
  {
   "cell_type": "code",
   "execution_count": null,
   "id": "33ade3b0",
   "metadata": {
    "scrolled": true
   },
   "outputs": [],
   "source": [
    "# start with pandas and numpy"
   ]
  },
  {
   "cell_type": "code",
   "execution_count": null,
   "id": "86dae890",
   "metadata": {
    "scrolled": false
   },
   "outputs": [],
   "source": [
    "# !pip install pycaret[full]"
   ]
  },
  {
   "cell_type": "code",
   "execution_count": 2,
   "id": "9fdf4ec2",
   "metadata": {},
   "outputs": [],
   "source": [
    "import pandas as pd\n",
    "import numpy as np"
   ]
  },
  {
   "cell_type": "code",
   "execution_count": 3,
   "id": "c5a4d999",
   "metadata": {},
   "outputs": [],
   "source": [
    "# import the data set\n",
    "data1 =  pd.read_csv(\"C:\\\\Users\\\\Manohar Kapse\\\\PyCaret\\\\happyness_scale.csv\")"
   ]
  },
  {
   "cell_type": "code",
   "execution_count": 4,
   "id": "5f0ac976",
   "metadata": {},
   "outputs": [
    {
     "data": {
      "text/html": [
       "<div>\n",
       "<style scoped>\n",
       "    .dataframe tbody tr th:only-of-type {\n",
       "        vertical-align: middle;\n",
       "    }\n",
       "\n",
       "    .dataframe tbody tr th {\n",
       "        vertical-align: top;\n",
       "    }\n",
       "\n",
       "    .dataframe thead th {\n",
       "        text-align: right;\n",
       "    }\n",
       "</style>\n",
       "<table border=\"1\" class=\"dataframe\">\n",
       "  <thead>\n",
       "    <tr style=\"text-align: right;\">\n",
       "      <th></th>\n",
       "      <th>Country</th>\n",
       "      <th>SNO</th>\n",
       "      <th>Happyness_Score</th>\n",
       "      <th>GDP</th>\n",
       "      <th>Social_support</th>\n",
       "      <th>Healthy_life_expectancy</th>\n",
       "      <th>Freedom_to_make_life_choices</th>\n",
       "      <th>Generosity</th>\n",
       "      <th>Perceptions_of_corruption</th>\n",
       "      <th>Country_type</th>\n",
       "    </tr>\n",
       "  </thead>\n",
       "  <tbody>\n",
       "    <tr>\n",
       "      <th>0</th>\n",
       "      <td>country1</td>\n",
       "      <td>1</td>\n",
       "      <td>7.769</td>\n",
       "      <td>1.340</td>\n",
       "      <td>1.587</td>\n",
       "      <td>0.986</td>\n",
       "      <td>0.596</td>\n",
       "      <td>0.153</td>\n",
       "      <td>0.393</td>\n",
       "      <td>Country_Z</td>\n",
       "    </tr>\n",
       "    <tr>\n",
       "      <th>1</th>\n",
       "      <td>country2</td>\n",
       "      <td>2</td>\n",
       "      <td>7.600</td>\n",
       "      <td>1.383</td>\n",
       "      <td>1.573</td>\n",
       "      <td>0.996</td>\n",
       "      <td>0.592</td>\n",
       "      <td>0.252</td>\n",
       "      <td>0.410</td>\n",
       "      <td>Country_Y</td>\n",
       "    </tr>\n",
       "    <tr>\n",
       "      <th>2</th>\n",
       "      <td>country3</td>\n",
       "      <td>3</td>\n",
       "      <td>7.554</td>\n",
       "      <td>1.488</td>\n",
       "      <td>1.582</td>\n",
       "      <td>1.028</td>\n",
       "      <td>0.603</td>\n",
       "      <td>0.271</td>\n",
       "      <td>0.341</td>\n",
       "      <td>Country_X</td>\n",
       "    </tr>\n",
       "    <tr>\n",
       "      <th>3</th>\n",
       "      <td>country4</td>\n",
       "      <td>4</td>\n",
       "      <td>7.494</td>\n",
       "      <td>1.380</td>\n",
       "      <td>1.624</td>\n",
       "      <td>1.026</td>\n",
       "      <td>0.591</td>\n",
       "      <td>0.354</td>\n",
       "      <td>0.118</td>\n",
       "      <td>Country_Z</td>\n",
       "    </tr>\n",
       "    <tr>\n",
       "      <th>4</th>\n",
       "      <td>country5</td>\n",
       "      <td>5</td>\n",
       "      <td>7.488</td>\n",
       "      <td>1.396</td>\n",
       "      <td>1.522</td>\n",
       "      <td>0.999</td>\n",
       "      <td>0.557</td>\n",
       "      <td>0.322</td>\n",
       "      <td>0.298</td>\n",
       "      <td>Country_Z</td>\n",
       "    </tr>\n",
       "  </tbody>\n",
       "</table>\n",
       "</div>"
      ],
      "text/plain": [
       "    Country  SNO  Happyness_Score    GDP  Social_support  \\\n",
       "0  country1    1            7.769  1.340           1.587   \n",
       "1  country2    2            7.600  1.383           1.573   \n",
       "2  country3    3            7.554  1.488           1.582   \n",
       "3  country4    4            7.494  1.380           1.624   \n",
       "4  country5    5            7.488  1.396           1.522   \n",
       "\n",
       "   Healthy_life_expectancy  Freedom_to_make_life_choices  Generosity  \\\n",
       "0                    0.986                         0.596       0.153   \n",
       "1                    0.996                         0.592       0.252   \n",
       "2                    1.028                         0.603       0.271   \n",
       "3                    1.026                         0.591       0.354   \n",
       "4                    0.999                         0.557       0.322   \n",
       "\n",
       "   Perceptions_of_corruption Country_type  \n",
       "0                      0.393    Country_Z  \n",
       "1                      0.410    Country_Y  \n",
       "2                      0.341    Country_X  \n",
       "3                      0.118    Country_Z  \n",
       "4                      0.298    Country_Z  "
      ]
     },
     "execution_count": 4,
     "metadata": {},
     "output_type": "execute_result"
    }
   ],
   "source": [
    "data1.head()"
   ]
  },
  {
   "cell_type": "code",
   "execution_count": 5,
   "id": "06070bb1",
   "metadata": {},
   "outputs": [],
   "source": [
    "from pycaret import *"
   ]
  },
  {
   "cell_type": "code",
   "execution_count": 6,
   "id": "0ecdc130",
   "metadata": {},
   "outputs": [],
   "source": [
    "### https://pycaret.gitbook.io/docs/"
   ]
  },
  {
   "cell_type": "code",
   "execution_count": 7,
   "id": "f69d66d1",
   "metadata": {
    "scrolled": false
   },
   "outputs": [],
   "source": [
    "from pycaret.regression import *  # there might be problem of joblib\n",
    "#install joblib of lower version"
   ]
  },
  {
   "cell_type": "code",
   "execution_count": null,
   "id": "6b1a438a",
   "metadata": {},
   "outputs": [],
   "source": []
  },
  {
   "cell_type": "code",
   "execution_count": null,
   "id": "56589d5c",
   "metadata": {},
   "outputs": [],
   "source": [
    "# pip install joblib==1.3.1"
   ]
  },
  {
   "cell_type": "code",
   "execution_count": null,
   "id": "67bdb593",
   "metadata": {},
   "outputs": [],
   "source": [
    "#!pip install --upgrade pandas # or use anaconda prompt conda install pandas\n",
    "#!pip install pandas-profiling"
   ]
  },
  {
   "cell_type": "code",
   "execution_count": 8,
   "id": "c6519a78",
   "metadata": {},
   "outputs": [],
   "source": [
    "# start regression with \n",
    "# RegressionExperiment\n",
    "reg_exp = RegressionExperiment()"
   ]
  },
  {
   "cell_type": "code",
   "execution_count": null,
   "id": "bb11e77b",
   "metadata": {
    "scrolled": true
   },
   "outputs": [],
   "source": [
    "# Basic setup\n",
    "# Step 1\n",
    "reg_exp1 = reg_exp.setup(data=data1, target=\"Happyness_Score\")"
   ]
  },
  {
   "cell_type": "code",
   "execution_count": null,
   "id": "7fcd9b17",
   "metadata": {},
   "outputs": [],
   "source": []
  },
  {
   "cell_type": "code",
   "execution_count": null,
   "id": "76856550",
   "metadata": {},
   "outputs": [],
   "source": [
    "#Add type of variables in setup, numeric, categorical and ordinal\n",
    "#1. ignore_features, is also used for removing the variables \n",
    "#Such as name, sno etc None\n",
    "#2. numeric_features: list of string, default = None\n",
    "#3. categorical_features: list of string, default = None\n"
   ]
  },
  {
   "cell_type": "code",
   "execution_count": null,
   "id": "ad652cd6",
   "metadata": {
    "scrolled": false
   },
   "outputs": [],
   "source": [
    "# step 2\n",
    "reg_exp1=reg_exp.setup(data=data1, target=\"Happyness_Score\", \n",
    "      ignore_features=[\"Country\", \"SNO\"])"
   ]
  },
  {
   "cell_type": "code",
   "execution_count": null,
   "id": "27774b5d",
   "metadata": {},
   "outputs": [],
   "source": [
    "# step 3\n",
    "# want to inform the system about the variables information \n",
    "# such as numeric, ordinal and categorical\n",
    "reg_exp1= reg_exp.setup(data=data1, target=\"Happyness_Score\", \n",
    "                              numeric_features=[\"GDP\",\n",
    "                                                \"Social_support\", \n",
    "                                                \"Healthy_life_expectancy\",  \n",
    "                                                \"Freedom_to_make_life_choices\", \n",
    "                                                \"Generosity\",  \n",
    "                                                \"Perceptions_of_corruption\"], \n",
    "                             ignore_features=[\"Country\", \"SNO\"])"
   ]
  },
  {
   "cell_type": "code",
   "execution_count": null,
   "id": "98ccd3a3",
   "metadata": {},
   "outputs": [],
   "source": [
    "# step 3\n",
    "# want to inform the system about the variables\n",
    "# such as numeric, ordinal and categorical\n",
    "reg_exp1= reg_exp.setup(data=data1, target=\"Happyness_Score\", \n",
    "                              numeric_features=[\"GDP\",\n",
    "                                                \"Social_support\", \n",
    "                                                \"Healthy_life_expectancy\",  \n",
    "                                                \"Freedom_to_make_life_choices\", \n",
    "                                                \"Generosity\",  \n",
    "                                                \"Perceptions_of_corruption\"],\n",
    "      categorical_features=[\"Country\"],\n",
    "      ignore_features=[\"SNO\"])"
   ]
  },
  {
   "cell_type": "code",
   "execution_count": null,
   "id": "becd4e39",
   "metadata": {},
   "outputs": [],
   "source": [
    "# Preprocess \n",
    "# preprocess = True, \n",
    "When set to False, no transformations are applied except for train_test_split \n",
    "and custom transformations passed in custom_pipeline param."
   ]
  },
  {
   "cell_type": "code",
   "execution_count": null,
   "id": "523f9a6a",
   "metadata": {},
   "outputs": [],
   "source": []
  },
  {
   "cell_type": "code",
   "execution_count": null,
   "id": "fdfd557c",
   "metadata": {},
   "outputs": [],
   "source": []
  },
  {
   "cell_type": "code",
   "execution_count": null,
   "id": "1dc6f2f9",
   "metadata": {},
   "outputs": [],
   "source": [
    "#How to pre process data\n",
    "1.missing value\n",
    "# imputation type: simple, none and iterative\n",
    "A. remove missing or B. impute them.\n",
    "    to remove missing use drop in imputation\n",
    "1. numeric imputation\n",
    "    drop: Drop rows containing missing values. \n",
    "    mean: Impute with mean of column. \n",
    "    median: Impute with median of column.\n",
    "    mode: Impute with most frequent value.\n",
    "    knn: Impute using a K-Nearest Neighbors approach. \n",
    "    int or float: Impute with provided numerical value."
   ]
  },
  {
   "cell_type": "code",
   "execution_count": null,
   "id": "7bb1c8c7",
   "metadata": {
    "scrolled": true
   },
   "outputs": [],
   "source": [
    "reg_exp1 = reg_exp1.setup(data=data1, target=\"Happyness_Score\",\n",
    "numeric_imputation=\"mean\")"
   ]
  },
  {
   "cell_type": "markdown",
   "id": "72d3b8e1",
   "metadata": {},
   "source": [
    "2. categorical imputation\n",
    "drop: Drop rows containing missing values.\n",
    "mode: Impute with most frequent value.\n",
    "str: Impute with provided string."
   ]
  },
  {
   "cell_type": "code",
   "execution_count": null,
   "id": "2b3ec7b6",
   "metadata": {
    "scrolled": true
   },
   "outputs": [],
   "source": [
    "reg_exp1 = reg_exp.setup(data=data1, target=\"Happyness_Score\",\n",
    "categorical_imputation=\"mode\")"
   ]
  },
  {
   "cell_type": "code",
   "execution_count": null,
   "id": "6965a83b",
   "metadata": {
    "scrolled": false
   },
   "outputs": [],
   "source": [
    "reg_exp1=reg_exp.setup(data=data1, target=\"Happyness_Score\", imputation_type='simple')"
   ]
  },
  {
   "cell_type": "code",
   "execution_count": null,
   "id": "1f261b81",
   "metadata": {},
   "outputs": [],
   "source": []
  },
  {
   "cell_type": "code",
   "execution_count": null,
   "id": "eab498de",
   "metadata": {},
   "outputs": [],
   "source": []
  },
  {
   "cell_type": "code",
   "execution_count": null,
   "id": "b60545ca",
   "metadata": {},
   "outputs": [],
   "source": []
  },
  {
   "cell_type": "code",
   "execution_count": null,
   "id": "8c8a9193",
   "metadata": {},
   "outputs": [],
   "source": []
  },
  {
   "cell_type": "code",
   "execution_count": null,
   "id": "2864c8ac",
   "metadata": {},
   "outputs": [],
   "source": []
  },
  {
   "cell_type": "code",
   "execution_count": null,
   "id": "f7efa17b",
   "metadata": {},
   "outputs": [],
   "source": []
  },
  {
   "cell_type": "code",
   "execution_count": null,
   "id": "831cb2e0",
   "metadata": {},
   "outputs": [],
   "source": [
    "2.outliers detection\n",
    "\n",
    "remove_outliers: bool = False,\n",
    "    outliers_method: str = 'iforest',\n",
    "    outliers_threshold: float = 0.05,\n",
    "        \n",
    "'iforest': Uses sklearn's IsolationForest.\n",
    "'ee': Uses sklearn's EllipticEnvelope.\n",
    "'lof': Uses sklearn's LocalOutlierFactor."
   ]
  },
  {
   "cell_type": "code",
   "execution_count": null,
   "id": "d37ecd48",
   "metadata": {},
   "outputs": [],
   "source": [
    "3.Scale-normalize\n",
    "normalize: bool = False,\n",
    "normalize_method: str = 'zscore',\n",
    "      \n",
    "z-score\n",
    "The standard zscore is calculated as z = (x – u) / s\n",
    "minmax\n",
    "scales and translates each feature individually such that it is in the\n",
    "range of 0 – 1.\n",
    "maxabs\n",
    "scales and translates each feature individually such that the\n",
    "maximal absolute value of each feature will be 1.0. \n",
    "It does not shift/center the data and thus does not destroy any sparsity.\n",
    "robust\n",
    "scales and translates each feature according to the Interquartile range. \n",
    "When the dataset contains outliers, the robust scaler often gives\n",
    "better results."
   ]
  },
  {
   "cell_type": "code",
   "execution_count": null,
   "id": "707dea19",
   "metadata": {},
   "outputs": [],
   "source": [
    "# Transformation of variable, features or target"
   ]
  },
  {
   "cell_type": "code",
   "execution_count": null,
   "id": "d06a90ef",
   "metadata": {},
   "outputs": [],
   "source": [
    "# for scale data\n",
    "transformation = False,True\n",
    "transformation_method: str = 'yeo-johnson'or 'quantile'\n",
    "\n",
    "    \n",
    "transform_target: bool = False,\n",
    "transform_target_method: str = 'yeo-johnson' or  'quantile' \n",
    "    they transform the variables to normal "
   ]
  },
  {
   "cell_type": "code",
   "execution_count": null,
   "id": "f7d51831",
   "metadata": {},
   "outputs": [],
   "source": [
    "\n",
    "fold_strategy: Union[str, Any] = 'kfold',\n",
    "    fold: int = 10,"
   ]
  },
  {
   "cell_type": "code",
   "execution_count": null,
   "id": "c08714db",
   "metadata": {},
   "outputs": [],
   "source": [
    "# experiment_regression = setup(data=data1, target=\"Happyness_Score\",\n",
    "                             train_size= 0.8)"
   ]
  },
  {
   "cell_type": "code",
   "execution_count": null,
   "id": "f68e8b8b",
   "metadata": {},
   "outputs": [],
   "source": [
    "# second Part of the video"
   ]
  },
  {
   "cell_type": "code",
   "execution_count": null,
   "id": "77c717e2",
   "metadata": {},
   "outputs": [],
   "source": [
    "feature_selection: bool = False,\n",
    "    feature_selection_method: str = 'classic',\n",
    "    feature_selection_estimator: Union[str, Any] = 'lightgbm',\n",
    "    n_features_to_select: Union[int, float] = 0.2,\n",
    "    \n",
    "low_variance_threshold: Optional[float] = None,"
   ]
  },
  {
   "cell_type": "code",
   "execution_count": null,
   "id": "a382a509",
   "metadata": {},
   "outputs": [],
   "source": [
    "Target imbalance\n",
    "fix_imbalance = True, SMOTE (Synthetic Minority Over-sampling Technique)is default\n",
    "fix_imbalance_method= other methods can be dealth later\n",
    "Example: \n",
    "from imblearn.over_sampling import *\n",
    "adasyn1 = ADASYN(sampling_strategy='minority')\n"
   ]
  },
  {
   "cell_type": "code",
   "execution_count": null,
   "id": "52e04e5b",
   "metadata": {},
   "outputs": [],
   "source": []
  },
  {
   "cell_type": "code",
   "execution_count": null,
   "id": "40825f7d",
   "metadata": {},
   "outputs": [],
   "source": []
  },
  {
   "cell_type": "markdown",
   "id": "579138ed",
   "metadata": {},
   "source": [
    "test and train data set split\n",
    "train_size: float = 0.7"
   ]
  },
  {
   "cell_type": "code",
   "execution_count": null,
   "id": "993aecee",
   "metadata": {},
   "outputs": [],
   "source": []
  },
  {
   "cell_type": "code",
   "execution_count": null,
   "id": "be9d9e75",
   "metadata": {},
   "outputs": [],
   "source": []
  },
  {
   "cell_type": "markdown",
   "id": "ae0be76a",
   "metadata": {},
   "source": [
    "inorder to get information regarding the global variables use\n",
    "get_config()"
   ]
  },
  {
   "cell_type": "code",
   "execution_count": null,
   "id": "cbf59f96",
   "metadata": {},
   "outputs": [],
   "source": [
    "# get_config()\n",
    "x1 = get_config('X')\n",
    "y1 = get_config('y')"
   ]
  },
  {
   "cell_type": "code",
   "execution_count": null,
   "id": "e5f718a8",
   "metadata": {},
   "outputs": [],
   "source": [
    "#x1, y1"
   ]
  },
  {
   "cell_type": "markdown",
   "id": "5f8ca341",
   "metadata": {},
   "source": [
    "This function is used to reset global environment variables.\n",
    "set_config()"
   ]
  },
  {
   "cell_type": "code",
   "execution_count": null,
   "id": "da956611",
   "metadata": {},
   "outputs": [],
   "source": []
  },
  {
   "cell_type": "code",
   "execution_count": null,
   "id": "e218d194",
   "metadata": {},
   "outputs": [],
   "source": []
  },
  {
   "cell_type": "code",
   "execution_count": null,
   "id": "49960b11",
   "metadata": {},
   "outputs": [],
   "source": [
    "set_config('seed', 123)"
   ]
  },
  {
   "cell_type": "code",
   "execution_count": null,
   "id": "7445a981",
   "metadata": {
    "scrolled": true
   },
   "outputs": [],
   "source": [
    "# create a specific model, say linear regression\n",
    "regression1 = reg_exp.create_model('lr')"
   ]
  },
  {
   "cell_type": "code",
   "execution_count": null,
   "id": "85fd774d",
   "metadata": {
    "scrolled": true
   },
   "outputs": [],
   "source": [
    "#Study the output of the model\n",
    "regression1.coef_"
   ]
  },
  {
   "cell_type": "code",
   "execution_count": null,
   "id": "b247e812",
   "metadata": {},
   "outputs": [],
   "source": []
  },
  {
   "cell_type": "code",
   "execution_count": null,
   "id": "1f69d5e7",
   "metadata": {
    "scrolled": true
   },
   "outputs": [],
   "source": [
    "# multicollinearity\n",
    "\n",
    "experiment_regression = setup(data=data1, target=\"Happyness_Score\", \n",
    "                              numeric_features=[\"GDP\",\n",
    "                                                \"Social_support\", \n",
    "                                                \"Healthy_life_expectancy\",  \n",
    "                                                \"Freedom_to_make_life_choices\", \n",
    "                                                \"Generosity\",  \n",
    "                                                \"Perceptions_of_corruption\"], \n",
    "                             ignore_features=[\"Country\", \"SNO\"], \n",
    "                             remove_multicollinearity=True)"
   ]
  },
  {
   "cell_type": "code",
   "execution_count": null,
   "id": "6fc71134",
   "metadata": {},
   "outputs": [],
   "source": [
    "regression2 = experiment_regression.create_model('lr')"
   ]
  },
  {
   "cell_type": "code",
   "execution_count": null,
   "id": "b2e650c4",
   "metadata": {},
   "outputs": [],
   "source": [
    "evaluate_model(regression2)"
   ]
  },
  {
   "cell_type": "code",
   "execution_count": null,
   "id": "b9a1aa37",
   "metadata": {
    "scrolled": true
   },
   "outputs": [],
   "source": [
    "evaluate_model(regression1)"
   ]
  },
  {
   "cell_type": "code",
   "execution_count": null,
   "id": "0969bd31",
   "metadata": {
    "scrolled": true
   },
   "outputs": [],
   "source": [
    "# we can use any data for prediction, from \n",
    "#predict_model(regression1)\n",
    "#predict_model(regression1, data=data1)"
   ]
  },
  {
   "cell_type": "code",
   "execution_count": null,
   "id": "4e8946c6",
   "metadata": {
    "scrolled": true
   },
   "outputs": [],
   "source": [
    "dashboard(regression1, display_format='dash')\n",
    "# click on the, Starting ExplainerDashboard on \n",
    "# http://10.25.112.104:8050, to get the dashboard\n",
    "\n",
    "# inline can also be used\n",
    "#dashboard(regression1, display_format='inline')"
   ]
  },
  {
   "cell_type": "code",
   "execution_count": null,
   "id": "103883ec",
   "metadata": {},
   "outputs": [],
   "source": []
  }
 ],
 "metadata": {
  "kernelspec": {
   "display_name": "pycaretenv",
   "language": "python",
   "name": "pycaretenv"
  },
  "language_info": {
   "codemirror_mode": {
    "name": "ipython",
    "version": 3
   },
   "file_extension": ".py",
   "mimetype": "text/x-python",
   "name": "python",
   "nbconvert_exporter": "python",
   "pygments_lexer": "ipython3",
   "version": "3.8.19"
  }
 },
 "nbformat": 4,
 "nbformat_minor": 5
}
